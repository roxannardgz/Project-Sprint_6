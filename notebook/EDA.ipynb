{
 "cells": [
  {
   "cell_type": "markdown",
   "metadata": {},
   "source": [
    "# Exploratory Data Analysis\n",
    "### Vehicles Data"
   ]
  },
  {
   "cell_type": "markdown",
   "metadata": {},
   "source": [
    "## Introduction\n",
    "\n",
    "This project aims to develop and deploy a web application to a cloud service, making it accessible to the public. The application will be based on a dataset containing information about car sales advertisements. This part of the project contains the Exploratory Data Analysis (EDA), which is crucial for understanding the data, clean and preprocess, and identify patterns and trends."
   ]
  },
  {
   "cell_type": "markdown",
   "metadata": {},
   "source": [
    "## 1. Data Overview"
   ]
  },
  {
   "cell_type": "code",
   "execution_count": null,
   "metadata": {},
   "outputs": [],
   "source": [
    "import pandas as pd\n",
    "import plotly.express as px"
   ]
  },
  {
   "cell_type": "code",
   "execution_count": null,
   "metadata": {},
   "outputs": [],
   "source": [
    "vehicles_data = pd.read_csv(\"../vehicles_us.csv\")"
   ]
  },
  {
   "cell_type": "code",
   "execution_count": null,
   "metadata": {},
   "outputs": [],
   "source": [
    "vehicles_data.head(10)"
   ]
  },
  {
   "cell_type": "code",
   "execution_count": null,
   "metadata": {},
   "outputs": [],
   "source": [
    "vehicles_data.info()"
   ]
  },
  {
   "cell_type": "code",
   "execution_count": null,
   "metadata": {},
   "outputs": [],
   "source": [
    "vehicles_data.shape"
   ]
  },
  {
   "cell_type": "markdown",
   "metadata": {},
   "source": [
    "### 1.1 Conclusion\n",
    "Every column name in the dataframe has an appropiate format. No adjustment is required.\n",
    "\n",
    "There appear to be missing values in the following columns: model_year, cylinders, odometer, paint_color and is_4wd. The NaN values of the latter column seem to represent `False` (indicating the vehicle is not 4wd). We will explore this further. Some columns require a change of data type.\n",
    "\n",
    "To proceed, we need to preprocess the data. "
   ]
  },
  {
   "cell_type": "markdown",
   "metadata": {},
   "source": [
    "## 2. Data Preprocessing\n",
    "\n",
    "We want to start by checking the unique values for the `is_4wd` column."
   ]
  },
  {
   "cell_type": "code",
   "execution_count": null,
   "metadata": {
    "scrolled": true
   },
   "outputs": [],
   "source": [
    "vehicles_data['is_4wd'].unique()"
   ]
  },
  {
   "cell_type": "markdown",
   "metadata": {},
   "source": [
    "Since the only two available values are `1` and `nan`, we will change the `nan`s to `0` and keep this column as numeric. Therefore, `1 = True` and `0 = False`."
   ]
  },
  {
   "cell_type": "code",
   "execution_count": null,
   "metadata": {},
   "outputs": [],
   "source": [
    "vehicles_data.loc[vehicles_data['is_4wd'].isna(), ['is_4wd']] = 0\n",
    "vehicles_data['is_4wd'].unique()"
   ]
  },
  {
   "cell_type": "code",
   "execution_count": null,
   "metadata": {},
   "outputs": [],
   "source": [
    "vehicles_data['is_4wd'] = pd.to_numeric(vehicles_data['is_4wd']).astype(int)"
   ]
  },
  {
   "cell_type": "markdown",
   "metadata": {},
   "source": [
    "Before proceeding with changing that data types as required, we want to check the duplicates and adjust them as necessary."
   ]
  },
  {
   "cell_type": "code",
   "execution_count": null,
   "metadata": {},
   "outputs": [],
   "source": [
    "duplicates = vehicles_data.duplicated().sum()\n",
    "duplicates"
   ]
  },
  {
   "cell_type": "markdown",
   "metadata": {},
   "source": [
    "No duplicates were found.\n",
    "\n",
    "Although some columns such as `model_year` and `cylinders` are numeric, they are treated as categorical data. To explicitly indicate that they are categories rather than numerical values, we will convert these columns to strings (objects). We'll first convert them to numeric to remove the decimal part and then to strings. Additionally, we will fill the null values of `model_year`, `cylinders`, and `paint_color` with `not specified`."
   ]
  },
  {
   "cell_type": "code",
   "execution_count": null,
   "metadata": {},
   "outputs": [],
   "source": [
    "vehicles_data['model_year'] = pd.to_numeric(vehicles_data['model_year'], errors='coerce')\n",
    "vehicles_data['model_year'] = vehicles_data['model_year'].astype('Int64')\n",
    "\n",
    "vehicles_data['cylinders'] = pd.to_numeric(vehicles_data['cylinders'], errors='coerce')\n",
    "vehicles_data['cylinders'] = vehicles_data['cylinders'].astype('Int64')\n",
    "\n",
    "vehicles_data.info()"
   ]
  },
  {
   "cell_type": "code",
   "execution_count": null,
   "metadata": {
    "scrolled": true
   },
   "outputs": [],
   "source": [
    "# using -1 as a placeholder to fill the null values for numeric columns\n",
    "vehicles_data['model_year'] = vehicles_data['model_year'].fillna(value=-1)\n",
    "vehicles_data['cylinders'] = vehicles_data['cylinders'].fillna(value=-1)\n",
    "\n",
    "vehicles_data['paint_color'] = vehicles_data['paint_color'].fillna(value='not specified')"
   ]
  },
  {
   "cell_type": "code",
   "execution_count": null,
   "metadata": {},
   "outputs": [],
   "source": [
    "vehicles_data['model_year'] = vehicles_data['model_year'].astype(str)\n",
    "vehicles_data['cylinders'] = vehicles_data['cylinders'].astype(str)\n",
    "\n",
    "vehicles_data['model_year'] = vehicles_data['model_year'].replace('-1', 'not specified')\n",
    "vehicles_data['cylinders'] = vehicles_data['cylinders'].replace('-1', 'not specified')"
   ]
  },
  {
   "cell_type": "markdown",
   "metadata": {},
   "source": [
    "Likewise, we'll treat the `date_posted` column as a date."
   ]
  },
  {
   "cell_type": "code",
   "execution_count": null,
   "metadata": {},
   "outputs": [],
   "source": [
    "vehicles_data['date_posted'] = pd.to_datetime(vehicles_data['date_posted'], format =\"%Y-%m-%d\")\n",
    "vehicles_data.info()"
   ]
  },
  {
   "cell_type": "code",
   "execution_count": null,
   "metadata": {
    "scrolled": true
   },
   "outputs": [],
   "source": [
    "vehicles_data.head(10)"
   ]
  },
  {
   "cell_type": "markdown",
   "metadata": {},
   "source": [
    "### 2.1 Conclusion\n",
    "\n"
   ]
  },
  {
   "cell_type": "markdown",
   "metadata": {},
   "source": [
    "## 3. EDA"
   ]
  },
  {
   "cell_type": "markdown",
   "metadata": {},
   "source": [
    "We will initiate by adding a new column `make` derived from the column `model` and a new column `month` from the column `date_posted`. This will enable us to conduct a general review of the data. "
   ]
  },
  {
   "cell_type": "code",
   "execution_count": null,
   "metadata": {},
   "outputs": [],
   "source": [
    "vehicles_data['make'] = vehicles_data['model'].str.split().str[0]\n",
    "vehicles_data['month'] = vehicles_data['date_posted'].dt.strftime('%y-%m')"
   ]
  },
  {
   "cell_type": "code",
   "execution_count": null,
   "metadata": {
    "scrolled": false
   },
   "outputs": [],
   "source": [
    "# checking unique values to verify that the names of all makes in the data set are one word\n",
    "vehicles_data['make'].unique()"
   ]
  },
  {
   "cell_type": "code",
   "execution_count": null,
   "metadata": {},
   "outputs": [],
   "source": [
    "# checking the unique values for the month column\n",
    "vehicles_data['month'].unique()"
   ]
  },
  {
   "cell_type": "code",
   "execution_count": null,
   "metadata": {},
   "outputs": [],
   "source": [
    "# saving the clean dataframe to csv file.\n",
    "# This file will be used in the web app.\n",
    "\n",
    "#vehicles_data.to_csv('vehicles_clean.csv', index=False)"
   ]
  },
  {
   "cell_type": "markdown",
   "metadata": {},
   "source": [
    "### 3.1 Average Prices and Distribution"
   ]
  },
  {
   "cell_type": "markdown",
   "metadata": {},
   "source": [
    "We'll proceed to create some visualizations to identify general trends in our data. We'll start by examining the distribution of prices and the average price per make."
   ]
  },
  {
   "cell_type": "code",
   "execution_count": null,
   "metadata": {
    "scrolled": false
   },
   "outputs": [],
   "source": [
    "px.histogram(vehicles_data, x='price', nbins=100)"
   ]
  },
  {
   "cell_type": "markdown",
   "metadata": {},
   "source": [
    "To identify outliers in the prices, we will calculate the bounds for outliers. Since the interquartile range method may yield a negative lower bound, which isn't meaningful for prices, and to keep the process simple, we will consider outliers to be values falling below the 5th percentile and above the 95th percentile."
   ]
  },
  {
   "cell_type": "code",
   "execution_count": null,
   "metadata": {},
   "outputs": [],
   "source": [
    "lower_bound = vehicles_data['price'].quantile(0.05)\n",
    "upper_bound = vehicles_data['price'].quantile(0.95)\n",
    "\n",
    "print(f'Lower bound: {lower_bound},  Upper bound: {upper_bound}')"
   ]
  },
  {
   "cell_type": "code",
   "execution_count": null,
   "metadata": {},
   "outputs": [],
   "source": [
    "vehicles_data_upd = vehicles_data[(vehicles_data['price'] < upper_bound) & (vehicles_data['price'] > lower_bound)]\n",
    "\n",
    "px.histogram(vehicles_data_upd, x='price', nbins=50)"
   ]
  },
  {
   "cell_type": "markdown",
   "metadata": {},
   "source": [
    "Excluding the outliers, the most frequent prices for the vehicles in our dataset range between \\\\$3000 and \\\\$7000.\n",
    "\n",
    "Let's evaluate the average prices by make."
   ]
  },
  {
   "cell_type": "code",
   "execution_count": null,
   "metadata": {},
   "outputs": [],
   "source": [
    "average_price = vehicles_data.groupby('make')['price'].mean().reset_index()\n",
    "average_price = average_price.sort_values(by='price', ascending=False)"
   ]
  },
  {
   "cell_type": "code",
   "execution_count": null,
   "metadata": {
    "scrolled": true
   },
   "outputs": [],
   "source": [
    "px.bar(average_price, x='make', y='price', height=450)"
   ]
  },
  {
   "cell_type": "markdown",
   "metadata": {},
   "source": [
    "Mercendes-Benz is clearly the make with higher average prices. Let's dig in a bit more:"
   ]
  },
  {
   "cell_type": "code",
   "execution_count": null,
   "metadata": {},
   "outputs": [],
   "source": [
    "mercedes_data = vehicles_data[vehicles_data['make']=='mercedes-benz']\n",
    "mercedes_data.head()"
   ]
  },
  {
   "cell_type": "code",
   "execution_count": null,
   "metadata": {
    "scrolled": true
   },
   "outputs": [],
   "source": [
    "mercedes_by_year = mercedes_data.groupby('model_year')['price'].mean().reset_index()\n",
    "\n",
    "counts = mercedes_data.groupby('model_year').size().reset_index(name='count')\n",
    "mercedes_by_year = mercedes_by_year.merge(counts, on='model_year')\n",
    "\n",
    "mercedes_by_year"
   ]
  },
  {
   "cell_type": "markdown",
   "metadata": {},
   "source": [
    "It seems that it is the same car has been posted several times, just with the distinction of posting with and without the year and color. Out of 41 posts in total, 39 appear to be duplicates. However, this cannot be stated with certainty, as the odometer in each entry is missing."
   ]
  },
  {
   "cell_type": "code",
   "execution_count": null,
   "metadata": {
    "scrolled": true
   },
   "outputs": [],
   "source": [
    "columns = ['price', 'model', 'condition', 'fuel',\n",
    "       'odometer', 'transmission', 'paint_color']\n",
    "mercedes_reduced = mercedes_data[columns].copy()\n",
    "mercedes_reduced.head(10)"
   ]
  },
  {
   "cell_type": "code",
   "execution_count": null,
   "metadata": {},
   "outputs": [],
   "source": [
    "duplicates = mercedes_reduced.duplicated().sum()\n",
    "duplicates"
   ]
  },
  {
   "cell_type": "markdown",
   "metadata": {},
   "source": [
    "This means that the counts by any dimensions (e.g. count of posting by make or by condition) might not be accurate, as the same vehicles might have been posted several times."
   ]
  },
  {
   "cell_type": "markdown",
   "metadata": {},
   "source": [
    "### 3.2 Distribution of Condition\n",
    "\n",
    "Taking that into consideration that the count does not necessarily represent the number of distinct vehicles posted, let's explore distribution of conditions by make."
   ]
  },
  {
   "cell_type": "code",
   "execution_count": null,
   "metadata": {},
   "outputs": [],
   "source": [
    "condition_by_make = vehicles_data.groupby(['make', 'condition'])['condition'].count().unstack(fill_value=0)\n",
    "\n",
    "condition_by_make"
   ]
  },
  {
   "cell_type": "code",
   "execution_count": null,
   "metadata": {},
   "outputs": [],
   "source": [
    "px.bar(condition_by_make, barmode='group')"
   ]
  },
  {
   "cell_type": "markdown",
   "metadata": {},
   "source": [
    "We can see that Ford, Chevrolet and Toyota are the ones with most postings, in each case being 'excellent' condition the most predominant. This seems to be true for every make."
   ]
  },
  {
   "cell_type": "markdown",
   "metadata": {},
   "source": [
    "### 3.3 Fuel, type and color"
   ]
  },
  {
   "cell_type": "markdown",
   "metadata": {},
   "source": [
    "We want to explore the number of postings by different categories: fuel, type and color"
   ]
  },
  {
   "cell_type": "code",
   "execution_count": null,
   "metadata": {},
   "outputs": [],
   "source": [
    "by_fuel = vehicles_data.groupby('fuel').size().reset_index(name='count')\n",
    "by_fuel = by_fuel.sort_values(by='count').reset_index(drop=True)\n",
    "\n",
    "px.bar(by_fuel, x='count', y='fuel', orientation='h')"
   ]
  },
  {
   "cell_type": "code",
   "execution_count": null,
   "metadata": {},
   "outputs": [],
   "source": [
    "by_type = vehicles_data.groupby('type').size().reset_index(name='count')\n",
    "by_type = by_type.sort_values(by='count').reset_index(drop=True)\n",
    "\n",
    "px.bar(by_type, x='count', y='type', orientation='h')"
   ]
  },
  {
   "cell_type": "code",
   "execution_count": null,
   "metadata": {},
   "outputs": [],
   "source": [
    "by_color = vehicles_data.groupby('paint_color').size().reset_index(name='count')\n",
    "by_color = by_color.sort_values(by='count')\n",
    "\n",
    "px.bar(by_color, x='count', y='paint_color', orientation='h')"
   ]
  },
  {
   "cell_type": "markdown",
   "metadata": {},
   "source": [
    "### 3.4 Price by date posted\n",
    "\n",
    "Let's explore whether there's any relationship between the listing duration and the price."
   ]
  },
  {
   "cell_type": "code",
   "execution_count": null,
   "metadata": {},
   "outputs": [],
   "source": [
    "px.scatter(vehicles_data, x='price', y='days_listed')"
   ]
  },
  {
   "cell_type": "markdown",
   "metadata": {},
   "source": [
    "Excluding the outliers as determined before:"
   ]
  },
  {
   "cell_type": "code",
   "execution_count": null,
   "metadata": {
    "scrolled": false
   },
   "outputs": [],
   "source": [
    "px.scatter(vehicles_data_upd, x='price', y='days_listed',  hover_name='make', hover_data='condition', color='condition')"
   ]
  },
  {
   "cell_type": "markdown",
   "metadata": {},
   "source": [
    "There doesn't seem to be any relationship between the days listed and the price. It's worth noting that the same vehicles listed a long time ago might have been reposted, and therefore, they appear multiple times in the data."
   ]
  },
  {
   "cell_type": "markdown",
   "metadata": {},
   "source": [
    "### 3.5 Listings by date"
   ]
  },
  {
   "cell_type": "markdown",
   "metadata": {},
   "source": [
    "Lastly, let's explore the numer of listing by date"
   ]
  },
  {
   "cell_type": "code",
   "execution_count": null,
   "metadata": {},
   "outputs": [],
   "source": [
    "by_date = vehicles_data.groupby('date_posted').size().reset_index(name='count')\n",
    "\n",
    "by_date = by_date.sort_values(by='date_posted')\n",
    "by_date.head()"
   ]
  },
  {
   "cell_type": "code",
   "execution_count": null,
   "metadata": {},
   "outputs": [],
   "source": [
    "px.line(by_date, x='date_posted',y='count')"
   ]
  },
  {
   "cell_type": "code",
   "execution_count": null,
   "metadata": {},
   "outputs": [],
   "source": [
    "by_month = vehicles_data.groupby('month').size().reset_index(name='count')\n",
    "\n",
    "by_month = by_month.sort_values(by='month')\n",
    "by_month.head()"
   ]
  },
  {
   "cell_type": "code",
   "execution_count": null,
   "metadata": {
    "scrolled": true
   },
   "outputs": [],
   "source": [
    "px.line(by_month, x='month',y='count')"
   ]
  },
  {
   "cell_type": "markdown",
   "metadata": {},
   "source": [
    "The number of postings appears to be relatively consistent throughout the months, with a few minor peaks that do not seem to be significant. This is with the exception of the last month in the dataset, as it does not contain data for the entire month"
   ]
  },
  {
   "cell_type": "markdown",
   "metadata": {},
   "source": [
    "### 3.6 Conclusion\n",
    "\n",
    "The dataset reveals patterns where the most frequent prices fall within the \\\\$3000 and \\\\$7000 range, after excluding for outliers. Mercedes-Benz emerges as the make with the highest average prices. However, closer examination reveals that different post might refer to the same vehicles. \n",
    "\n",
    "We identified that gas is the predominant mode of fuel and white is the most predominant color. Additionally, we saw that SUV, trucks and sedan account for around 70% of the listings. \n",
    "\n",
    "There appears to be no relationship between the number of days listed and the price, likely due to the reposting of vehicles over time. Furthermore, the number of postings remains relatively consistent throughout most months.\n",
    "\n",
    "While this dataset offers insights into vehicle listings, the count of postings may not accurately represent the number of distint vehicles listed. It is recommended that this dataset is not used for exploring trends such as most posted makes, most frequent colors posted or similar, as it might not accurately reflect the reality. "
   ]
  },
  {
   "cell_type": "code",
   "execution_count": null,
   "metadata": {},
   "outputs": [],
   "source": []
  }
 ],
 "metadata": {
  "kernelspec": {
   "display_name": "Python 3 (ipykernel)",
   "language": "python",
   "name": "python3"
  },
  "language_info": {
   "codemirror_mode": {
    "name": "ipython",
    "version": 3
   },
   "file_extension": ".py",
   "mimetype": "text/x-python",
   "name": "python",
   "nbconvert_exporter": "python",
   "pygments_lexer": "ipython3",
   "version": "3.10.11"
  }
 },
 "nbformat": 4,
 "nbformat_minor": 2
}
